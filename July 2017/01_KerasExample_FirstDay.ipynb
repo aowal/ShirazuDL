{
 "cells": [
  {
   "cell_type": "code",
   "execution_count": 1,
   "metadata": {
    "slideshow": {
     "slide_type": "skip"
    }
   },
   "outputs": [
    {
     "data": {
      "text/plain": [
       "'3.0.2'"
      ]
     },
     "execution_count": 1,
     "metadata": {},
     "output_type": "execute_result"
    }
   ],
   "source": [
    "import nbpresent\n",
    "nbpresent.__version__"
   ]
  },
  {
   "cell_type": "code",
   "execution_count": 4,
   "metadata": {
    "collapsed": true,
    "slideshow": {
     "slide_type": "skip"
    }
   },
   "outputs": [],
   "source": [
    "#pre-req\n",
    "#Install: Anaconda 4.4.0, Keras 2.0.6, Tensorflow 1.2.1, Python 3.6.1, RISE, NB-CONDA"
   ]
  },
  {
   "cell_type": "markdown",
   "metadata": {
    "nbpresent": {
     "id": "259c7cf4-940f-4534-97c5-3cd7aa7e1a5f"
    },
    "slideshow": {
     "slide_type": "slide"
    }
   },
   "source": [
    "<h1>Deep Learning Workshop - JULY 2017</h1>\n",
    "<br>\n",
    "<a href=\"http://home.cse.shirazu.ac.ir/~m.valipour/\">Mojtaba Valipour</a> @ Shiraz University\n",
    "\n",
    "<h5>Session 8 (Code Session) </h5>\n",
    "<p><strong><span class=\"a\"></span></strong> <span class=\"b\"></span> <span></span></p>"
   ]
  },
  {
   "cell_type": "markdown",
   "metadata": {
    "nbpresent": {
     "id": "dc845977-c189-43d6-b9c8-6ea04c03501e"
    },
    "slideshow": {
     "slide_type": "-"
    }
   },
   "source": [
    "<div style=\"width: 200px; float:right;margin:0 10px 10px 0\" markdown=\"1\">\n",
    "![tfImage](elements/images/kerasLogo.png)\n",
    "</div>"
   ]
  },
  {
   "cell_type": "markdown",
   "metadata": {
    "nbpresent": {
     "id": "66256af6-50c1-4bca-8bde-0c2afcff2ff8"
    },
    "slideshow": {
     "slide_type": "slide"
    }
   },
   "source": [
    "<img src=\"elements/images/phd-2.jpg\" alt=\"Drawing\" align=\"middle\" style=\"width: 950px;\"/>"
   ]
  },
  {
   "cell_type": "markdown",
   "metadata": {
    "nbpresent": {
     "id": "e1abfc20-184d-4b89-8cd2-405d037b3252"
    }
   },
   "source": [
    "Download Contents of Workshop Here:\n",
    "https://github.com/mvpcom/ShirazuDL"
   ]
  },
  {
   "cell_type": "markdown",
   "metadata": {
    "collapsed": true,
    "nbpresent": {
     "id": "7dff8ae0-2573-447a-a7ae-d2740c87c332"
    },
    "slideshow": {
     "slide_type": "subslide"
    }
   },
   "source": [
    "What is AutoEncoder? \n",
    "<div style=\"width: 1200px; float:right;margin:0 10px 10px 0\" markdown=\"1\">\n",
    "![tfImage](elements/images/01AE/Autoencoder.png)\n",
    "</div>"
   ]
  },
  {
   "cell_type": "markdown",
   "metadata": {
    "slideshow": {
     "slide_type": "skip"
    }
   },
   "source": [
    "Reference: https://github.com/udacity/deep-learning/blob/master/autoencoder/Simple_Autoencoder_Solution.ipynb"
   ]
  },
  {
   "cell_type": "markdown",
   "metadata": {
    "nbpresent": {
     "id": "498fd9f9-3661-40da-ad6a-24b728617ae8"
    },
    "slideshow": {
     "slide_type": "subslide"
    }
   },
   "source": [
    "General structure of an AE: \n",
    "<div style=\"width: 1200px; float:center;\" markdown=\"1\">\n",
    "![tfImage](elements/images/01AE/generalAE.jpg)\n",
    "</div>"
   ]
  },
  {
   "cell_type": "markdown",
   "metadata": {
    "slideshow": {
     "slide_type": "skip"
    }
   },
   "source": [
    "Reference: http://www.deeplearningbook.org/contents/autoencoders.html"
   ]
  },
  {
   "cell_type": "markdown",
   "metadata": {
    "nbpresent": {
     "id": "7b17b65a-de1e-4e3b-ac9c-0107b20ebbd6"
    },
    "slideshow": {
     "slide_type": "subslide"
    }
   },
   "source": [
    "<!---Latex Code-->\n",
    "$ R = g(h) $\n",
    "\n",
    "$ h = f(X) $"
   ]
  },
  {
   "cell_type": "markdown",
   "metadata": {
    "collapsed": true,
    "nbpresent": {
     "id": "dc3bbf7d-f48a-461f-97a9-1027351a4993"
    },
    "slideshow": {
     "slide_type": "subslide"
    }
   },
   "source": [
    "Why AutoEncoders?\n",
    "    1. Many Algorithms works well only in Low Dimensional Cases\n",
    "    2. Huge effortes need to provide annotated examples"
   ]
  },
  {
   "cell_type": "markdown",
   "metadata": {
    "nbpresent": {
     "id": "f48e8ce8-ac61-4ba4-9514-ea6ec8ef1902"
    },
    "slideshow": {
     "slide_type": "subslide"
    }
   },
   "source": [
    "If an autoencoder succeeds in simply learning to set $ g(f(X)) = X $ It's not especially useful "
   ]
  },
  {
   "cell_type": "markdown",
   "metadata": {
    "nbpresent": {
     "id": "eff07840-458f-4be7-99d5-d2f0517ec876"
    },
    "slideshow": {
     "slide_type": "subslide"
    }
   },
   "source": [
    "Autoencoders:\n",
    "* Undercomplete AutoEncoder\n",
    "* Regularized AutoEncoder\n",
    "* Sparse AutoEncoder\n",
    "* Denosoising AutoEncoder\n",
    "* Variational AutoEncoder\n",
    "* Seq2Seq AutoEncoder\n",
    "* etc. "
   ]
  },
  {
   "cell_type": "markdown",
   "metadata": {
    "nbpresent": {
     "id": "970f6553-f8f0-4ac9-9d93-babaf8309d88"
    },
    "slideshow": {
     "slide_type": "subslide"
    }
   },
   "source": [
    "An autoencoder whose code dimension is less than the input dimension is called undercomplete"
   ]
  },
  {
   "cell_type": "markdown",
   "metadata": {
    "nbpresent": {
     "id": "0e0afbf2-ee29-4a9a-9daf-1baa32abc47d"
    },
    "slideshow": {
     "slide_type": "subslide"
    }
   },
   "source": [
    "<img src=\"elements/images/01AE/undercomplete.png\" alt=\"Drawing\" align=\"middle\" style=\"width: 1200px;\"/>"
   ]
  },
  {
   "cell_type": "markdown",
   "metadata": {
    "collapsed": true,
    "slideshow": {
     "slide_type": "subslide"
    }
   },
   "source": [
    "Rather than limiting the model capacity by keeping the encoder and decoder shallow and the code size small, regularized autoencoders use a loss function that encourages the model to have other properties besides the ability to copy its input to its output."
   ]
  },
  {
   "cell_type": "markdown",
   "metadata": {
    "collapsed": true,
    "slideshow": {
     "slide_type": "subslide"
    }
   },
   "source": [
    "A sparse autoencoder is simply an autoencoder whose training criterion involves a sparsity penalty"
   ]
  },
  {
   "cell_type": "markdown",
   "metadata": {
    "slideshow": {
     "slide_type": "skip"
    }
   },
   "source": [
    "Reference: https://github.com/udacity/deep-learning/blob/master/autoencoder/Simple_Autoencoder_Solution.ipynb"
   ]
  },
  {
   "cell_type": "markdown",
   "metadata": {
    "nbpresent": {
     "id": "4cf853ad-7774-4299-bf18-874e082c795f"
    },
    "slideshow": {
     "slide_type": "slide"
    }
   },
   "source": [
    "Applications: \n",
    "    * Data Denoising\n",
    "    * Dimensionality Reduction\n",
    "    * Feature Learning\n",
    "    * Stack Learning"
   ]
  },
  {
   "cell_type": "code",
   "execution_count": 1,
   "metadata": {
    "collapsed": true,
    "slideshow": {
     "slide_type": "slide"
    }
   },
   "outputs": [],
   "source": [
    "#Helper Functions\n",
    "# find factors automatically\n",
    "def factorsFind(num, prefer=None):\n",
    "    if prefer is not None:\n",
    "        bestDivider = prefer\n",
    "        return bestDivider, int(num/bestDivider)\n",
    "    bestDivider = 1\n",
    "    for i in range(2,int(num/2)):\n",
    "        if num%i == 0:\n",
    "            bestDivider = i\n",
    "    return bestDivider, int(num/bestDivider)\n",
    "\n",
    "def plotSpecialTool(data,labels,samples2Visualize=12,factors=[2,6], figsize=(12,3), grayFlag=False, thr=0.0, reshaper=(28,28), indexes=[]):\n",
    "    # samples2Visualize = 12 # sample 12 random number\n",
    "    # factors = [2,6] # indicate two factors for number of samples\n",
    "    assert np.prod(np.array(factors))==samples2Visualize, \"%rx%r is not equal to %r\" % (factors[0],factors[1],samples2Visualize)\n",
    "    figure = plt.figure(figsize=figsize)\n",
    "    nLimit = data.shape[0]\n",
    "    for i in range(1,samples2Visualize+1):\n",
    "        img = figure.add_subplot(factors[0],factors[1],i)\n",
    "        # randomly sample an image from train set\n",
    "        \n",
    "        if len(indexes) != 0:\n",
    "            imgID = indexes[i-1]\n",
    "        else: \n",
    "            imgID = np.random.randint(nLimit-1)\n",
    "            \n",
    "        image = data[imgID]\n",
    "        image = image * 255.\n",
    "        \n",
    "        if len(reshaper) != 0:\n",
    "            image = image.reshape(reshaper[0], reshaper[1])\n",
    "            \n",
    "        if grayFlag:\n",
    "            plt.imshow(image.reshape(image.shape[0],image.shape[1]), cmap=plt.get_cmap('gray'))\n",
    "        else:\n",
    "            plt.imshow(image+thr)\n",
    "            \n",
    "        if len(labels) != 0:\n",
    "            img.set_title(labels[imgID],fontsize=7)\n",
    "            \n",
    "        plt.axis('off')"
   ]
  },
  {
   "cell_type": "markdown",
   "metadata": {
    "slideshow": {
     "slide_type": "slide"
    }
   },
   "source": [
    "## Undercomplete AutoEncoder:"
   ]
  },
  {
   "cell_type": "markdown",
   "metadata": {
    "collapsed": true,
    "slideshow": {
     "slide_type": "subslide"
    }
   },
   "source": [
    "First AutoEncoder Example:\n",
    "<img src=\"elements/images/01AE/autoencoder_1.png\" alt=\"Drawing\" align=\"middle\" style=\"width: 900px;\"/>"
   ]
  },
  {
   "cell_type": "code",
   "execution_count": 2,
   "metadata": {
    "slideshow": {
     "slide_type": "subslide"
    }
   },
   "outputs": [
    {
     "name": "stderr",
     "output_type": "stream",
     "text": [
      "Using TensorFlow backend.\n"
     ]
    },
    {
     "name": "stdout",
     "output_type": "stream",
     "text": [
      "(60000, 784)\n",
      "(10000, 784)\n"
     ]
    }
   ],
   "source": [
    "# ~/.keras/dataset\n",
    "from keras.datasets import mnist\n",
    "import numpy as np\n",
    "(x_train, _), (x_test, _) = mnist.load_data()\n",
    "x_train = x_train.astype('float32') / 255.\n",
    "x_test = x_test.astype('float32') / 255.\n",
    "x_train = x_train.reshape((len(x_train), np.prod(x_train.shape[1:])))\n",
    "x_test = x_test.reshape((len(x_test), np.prod(x_test.shape[1:])))\n",
    "print(x_train.shape)\n",
    "print(x_test.shape)"
   ]
  },
  {
   "cell_type": "code",
   "execution_count": 5,
   "metadata": {
    "collapsed": true,
    "slideshow": {
     "slide_type": "subslide"
    }
   },
   "outputs": [],
   "source": [
    "# Step 1: Import Libraries\n",
    "from keras.layers import Input, Dense\n",
    "from keras.models import Model\n",
    "import matplotlib.pyplot as plt"
   ]
  },
  {
   "cell_type": "code",
   "execution_count": 6,
   "metadata": {
    "collapsed": true,
    "slideshow": {
     "slide_type": "subslide"
    }
   },
   "outputs": [],
   "source": [
    "encodingDim = 32  # 32 floats -> compression of factor 24.5, assuming the input is 784 floats"
   ]
  },
  {
   "cell_type": "markdown",
   "metadata": {
    "slideshow": {
     "slide_type": "fragment"
    }
   },
   "source": [
    "<img src=\"elements/images/01AE/autoencoder_1.png\" alt=\"Drawing\" align=\"middle\" style=\"width: 1000px;\"/>"
   ]
  },
  {
   "cell_type": "code",
   "execution_count": 7,
   "metadata": {
    "collapsed": true,
    "slideshow": {
     "slide_type": "subslide"
    }
   },
   "outputs": [],
   "source": [
    "# this is our input placeholder\n",
    "inputImg = Input(shape=(784,))"
   ]
  },
  {
   "cell_type": "markdown",
   "metadata": {
    "slideshow": {
     "slide_type": "fragment"
    }
   },
   "source": [
    "<img src=\"elements/images/01AE/autoencoder_1.png\" alt=\"Drawing\" align=\"middle\" style=\"width: 1000px;\"/>"
   ]
  },
  {
   "cell_type": "code",
   "execution_count": 18,
   "metadata": {
    "slideshow": {
     "slide_type": "subslide"
    }
   },
   "outputs": [],
   "source": [
    "# \"encoded\" is the encoded representation of the input\n",
    "encoded = Dense(encodingDim, activation='relu')(inputImg)"
   ]
  },
  {
   "cell_type": "markdown",
   "metadata": {
    "slideshow": {
     "slide_type": "fragment"
    }
   },
   "source": [
    "<img src=\"elements/images/01AE/autoencoder_1.png\" alt=\"Drawing\" align=\"middle\" style=\"width: 1000px;\"/>"
   ]
  },
  {
   "cell_type": "code",
   "execution_count": 19,
   "metadata": {
    "collapsed": true,
    "slideshow": {
     "slide_type": "subslide"
    }
   },
   "outputs": [],
   "source": [
    "# \"decoded\" is the lossy reconstruction of the input\n",
    "decoded = Dense(784, activation='sigmoid')(encoded)"
   ]
  },
  {
   "cell_type": "markdown",
   "metadata": {
    "slideshow": {
     "slide_type": "fragment"
    }
   },
   "source": [
    "<img src=\"elements/images/01AE/autoencoder_1.png\" alt=\"Drawing\" align=\"middle\" style=\"width: 1000px;\"/>"
   ]
  },
  {
   "cell_type": "code",
   "execution_count": 20,
   "metadata": {
    "collapsed": true,
    "slideshow": {
     "slide_type": "subslide"
    }
   },
   "outputs": [],
   "source": [
    "# this model maps an input to its reconstruction\n",
    "autoencoder = Model(inputImg, decoded)"
   ]
  },
  {
   "cell_type": "markdown",
   "metadata": {
    "slideshow": {
     "slide_type": "fragment"
    }
   },
   "source": [
    "<img src=\"elements/images/01AE/autoencoder_1.png\" alt=\"Drawing\" align=\"middle\" style=\"width: 1000px;\"/>"
   ]
  },
  {
   "cell_type": "code",
   "execution_count": 21,
   "metadata": {
    "collapsed": true,
    "slideshow": {
     "slide_type": "subslide"
    }
   },
   "outputs": [],
   "source": [
    "# this model maps an input to its encoded representation\n",
    "encoder = Model(inputImg, encoded)"
   ]
  },
  {
   "cell_type": "markdown",
   "metadata": {
    "slideshow": {
     "slide_type": "fragment"
    }
   },
   "source": [
    "<img src=\"elements/images/01AE/autoencoder_1.png\" alt=\"Drawing\" align=\"middle\" style=\"width: 1000px;\"/>"
   ]
  },
  {
   "cell_type": "code",
   "execution_count": 22,
   "metadata": {
    "collapsed": true,
    "slideshow": {
     "slide_type": "subslide"
    }
   },
   "outputs": [],
   "source": [
    "# create a placeholder for an encoded (32-dimensional) input\n",
    "encodedInput = Input(shape=(encodingDim,))"
   ]
  },
  {
   "cell_type": "code",
   "execution_count": 23,
   "metadata": {
    "collapsed": true,
    "slideshow": {
     "slide_type": "fragment"
    }
   },
   "outputs": [],
   "source": [
    "# retrieve the last layer of the autoencoder model\n",
    "decoderLayer = autoencoder.layers[-1]"
   ]
  },
  {
   "cell_type": "code",
   "execution_count": 24,
   "metadata": {
    "collapsed": true,
    "slideshow": {
     "slide_type": "fragment"
    }
   },
   "outputs": [],
   "source": [
    "# create the decoder model\n",
    "decoder = Model(encodedInput, decoderLayer(encodedInput))"
   ]
  },
  {
   "cell_type": "markdown",
   "metadata": {
    "slideshow": {
     "slide_type": "fragment"
    }
   },
   "source": [
    "<img src=\"elements/images/01AE/autoencoder_1.png\" alt=\"Drawing\" align=\"middle\" style=\"width: 850px;\"/>"
   ]
  },
  {
   "cell_type": "code",
   "execution_count": 25,
   "metadata": {
    "collapsed": true,
    "slideshow": {
     "slide_type": "subslide"
    }
   },
   "outputs": [],
   "source": [
    "autoencoder.compile(optimizer='adadelta', loss='binary_crossentropy')"
   ]
  },
  {
   "cell_type": "code",
   "execution_count": 16,
   "metadata": {
    "collapsed": true,
    "slideshow": {
     "slide_type": "subslide"
    }
   },
   "outputs": [
    {
     "name": "stdout",
     "output_type": "stream",
     "text": [
      "Train on 60000 samples, validate on 10000 samples\n",
      "Epoch 1/50\n",
      "60000/60000 [==============================] - 6s - loss: 0.3804 - val_loss: 0.2740\n",
      "Epoch 2/50\n",
      "60000/60000 [==============================] - 5s - loss: 0.2681 - val_loss: 0.2592\n",
      "Epoch 3/50\n",
      "60000/60000 [==============================] - 5s - loss: 0.2498 - val_loss: 0.2373\n",
      "Epoch 4/50\n",
      "60000/60000 [==============================] - 5s - loss: 0.2296 - val_loss: 0.2192\n",
      "Epoch 5/50\n",
      "60000/60000 [==============================] - 5s - loss: 0.2143 - val_loss: 0.2063\n",
      "Epoch 6/50\n",
      "60000/60000 [==============================] - 5s - loss: 0.2029 - val_loss: 0.1963\n",
      "Epoch 7/50\n",
      "60000/60000 [==============================] - 5s - loss: 0.1937 - val_loss: 0.1880TA: 2s - los - ETA: 1s - loss: - ETA: \n",
      "Epoch 8/50\n",
      "60000/60000 [==============================] - 5s - loss: 0.1862 - val_loss: 0.1813\n",
      "Epoch 9/50\n",
      "60000/60000 [==============================] - 5s - loss: 0.1799 - val_loss: 0.1755\n",
      "Epoch 10/50\n",
      "60000/60000 [==============================] - 5s - loss: 0.1745 - val_loss: 0.1705\n",
      "Epoch 11/50\n",
      "60000/60000 [==============================] - 5s - loss: 0.1697 - val_loss: 0.1660\n",
      "Epoch 12/50\n",
      "60000/60000 [==============================] - 5s - loss: 0.1652 - val_loss: 0.1617\n",
      "Epoch 13/50\n",
      "60000/60000 [==============================] - 5s - loss: 0.1610 - val_loss: 0.1577\n",
      "Epoch 14/50\n",
      "60000/60000 [==============================] - 5s - loss: 0.1571 - val_loss: 0.1539\n",
      "Epoch 15/50\n",
      "60000/60000 [==============================] - 5s - loss: 0.1535 - val_loss: 0.1504\n",
      "Epoch 16/50\n",
      "60000/60000 [==============================] - 5s - loss: 0.1502 - val_loss: 0.1472\n",
      "Epoch 17/50\n",
      "60000/60000 [==============================] - 5s - loss: 0.1472 - val_loss: 0.1444\n",
      "Epoch 18/50\n",
      "60000/60000 [==============================] - 5s - loss: 0.1445 - val_loss: 0.1418\n",
      "Epoch 19/50\n",
      "60000/60000 [==============================] - 5s - loss: 0.1420 - val_loss: 0.1396\n",
      "Epoch 20/50\n",
      "60000/60000 [==============================] - 5s - loss: 0.1397 - val_loss: 0.1373\n",
      "Epoch 21/50\n",
      "60000/60000 [==============================] - 5s - loss: 0.1376 - val_loss: 0.1352\n",
      "Epoch 22/50\n",
      "60000/60000 [==============================] - 5s - loss: 0.1356 - val_loss: 0.1332\n",
      "Epoch 23/50\n",
      "60000/60000 [==============================] - 5s - loss: 0.1337 - val_loss: 0.1313\n",
      "Epoch 24/50\n",
      "60000/60000 [==============================] - 5s - loss: 0.1318 - val_loss: 0.1296\n",
      "Epoch 25/50\n",
      "60000/60000 [==============================] - 5s - loss: 0.1301 - val_loss: 0.1278\n",
      "Epoch 26/50\n",
      "60000/60000 [==============================] - 5s - loss: 0.1284 - val_loss: 0.1261\n",
      "Epoch 27/50\n",
      "60000/60000 [==============================] - 5s - loss: 0.1268 - val_loss: 0.1245\n",
      "Epoch 28/50\n",
      "60000/60000 [==============================] - 5s - loss: 0.1252 - val_loss: 0.1230\n",
      "Epoch 29/50\n",
      "60000/60000 [==============================] - 5s - loss: 0.1237 - val_loss: 0.1215\n",
      "Epoch 30/50\n",
      "60000/60000 [==============================] - 5s - loss: 0.1223 - val_loss: 0.1201\n",
      "Epoch 31/50\n",
      "60000/60000 [==============================] - 5s - loss: 0.1209 - val_loss: 0.1188\n",
      "Epoch 32/50\n",
      "60000/60000 [==============================] - 5s - loss: 0.1196 - val_loss: 0.1175\n",
      "Epoch 33/50\n",
      "60000/60000 [==============================] - 6s - loss: 0.1184 - val_loss: 0.1163\n",
      "Epoch 34/50\n",
      "60000/60000 [==============================] - 5s - loss: 0.1172 - val_loss: 0.1152\n",
      "Epoch 35/50\n",
      "60000/60000 [==============================] - 5s - loss: 0.1161 - val_loss: 0.1141\n",
      "Epoch 36/50\n",
      "60000/60000 [==============================] - 6s - loss: 0.1151 - val_loss: 0.1131\n",
      "Epoch 37/50\n",
      "60000/60000 [==============================] - 5s - loss: 0.1142 - val_loss: 0.1122\n",
      "Epoch 38/50\n",
      "60000/60000 [==============================] - 5s - loss: 0.1133 - val_loss: 0.1114\n",
      "Epoch 39/50\n",
      "60000/60000 [==============================] - 5s - loss: 0.1125 - val_loss: 0.1106\n",
      "Epoch 40/50\n",
      "60000/60000 [==============================] - 5s - loss: 0.1118 - val_loss: 0.1098\n",
      "Epoch 41/50\n",
      "60000/60000 [==============================] - 5s - loss: 0.1111 - val_loss: 0.1092\n",
      "Epoch 42/50\n",
      "60000/60000 [==============================] - 5s - loss: 0.1104 - val_loss: 0.1085\n",
      "Epoch 43/50\n",
      "60000/60000 [==============================] - 5s - loss: 0.1098 - val_loss: 0.1080\n",
      "Epoch 44/50\n",
      "60000/60000 [==============================] - 5s - loss: 0.1093 - val_loss: 0.1074\n",
      "Epoch 45/50\n",
      "60000/60000 [==============================] - 5s - loss: 0.1087 - val_loss: 0.1069\n",
      "Epoch 46/50\n",
      "60000/60000 [==============================] - 5s - loss: 0.1083 - val_loss: 0.1065\n",
      "Epoch 47/50\n",
      "60000/60000 [==============================] - 5s - loss: 0.1078 - val_loss: 0.1060\n",
      "Epoch 48/50\n",
      "60000/60000 [==============================] - 5s - loss: 0.1074 - val_loss: 0.1056\n",
      "Epoch 49/50\n",
      "60000/60000 [==============================] - 5s - loss: 0.1070 - val_loss: 0.1052\n",
      "Epoch 50/50\n",
      "60000/60000 [==============================] - 5s - loss: 0.1066 - val_loss: 0.1049\n"
     ]
    },
    {
     "data": {
      "text/plain": [
       "<keras.callbacks.History at 0x21ddfc2c6d8>"
      ]
     },
     "execution_count": 16,
     "metadata": {},
     "output_type": "execute_result"
    }
   ],
   "source": [
    "autoencoder.fit(x_train, x_train,\n",
    "                epochs=50,\n",
    "                batch_size=256,\n",
    "                shuffle=True,\n",
    "                validation_data=(x_test, x_test))"
   ]
  },
  {
   "cell_type": "code",
   "execution_count": 26,
   "metadata": {
    "collapsed": true,
    "slideshow": {
     "slide_type": "subslide"
    }
   },
   "outputs": [],
   "source": [
    "# ignore training for now, just load the model\n",
    "from keras.models import load_model\n",
    "autoencoder = load_model('simpleAE.h5')"
   ]
  },
  {
   "cell_type": "code",
   "execution_count": 19,
   "metadata": {
    "collapsed": true,
    "slideshow": {
     "slide_type": "subslide"
    }
   },
   "outputs": [],
   "source": [
    "# save models and weights\n",
    "autoencoder.save('simpleAE.h5')"
   ]
  },
  {
   "cell_type": "code",
   "execution_count": 27,
   "metadata": {
    "slideshow": {
     "slide_type": "subslide"
    }
   },
   "outputs": [],
   "source": [
    "# encode and decode some digits\n",
    "# note that we take them from the *test* set\n",
    "encodedImgs = encoder.predict(x_test)\n",
    "decodedImgs = decoder.predict(encodedImgs)"
   ]
  },
  {
   "cell_type": "code",
   "execution_count": 18,
   "metadata": {
    "slideshow": {
     "slide_type": "subslide"
    }
   },
   "outputs": [
    {
     "data": {
      "image/png": "[encoded data removed]",
      "text/plain": [
       "<matplotlib.figure.Figure at 0x1438125a400>"
      ]
     },
     "metadata": {},
     "output_type": "display_data"
    },
    {
     "data": {
      "image/png": "[encoded data removed]",
      "text/plain": [
       "<matplotlib.figure.Figure at 0x1438125a438>"
      ]
     },
     "metadata": {},
     "output_type": "display_data"
    }
   ],
   "source": [
    "allIdx = range(10)\n",
    "plotSpecialTool(x_test,[],samples2Visualize=10,factors=[1,10], figsize=(12,3), grayFlag=False, thr=0.0, reshaper=(28,28), indexes=allIdx)\n",
    "plotSpecialTool(decodedImgs,[],samples2Visualize=10,factors=[1,10], figsize=(12,3), grayFlag=False, thr=0.0, reshaper=(28,28), indexes=allIdx)\n",
    "plt.show()"
   ]
  },
  {
   "cell_type": "code",
   "execution_count": 27,
   "metadata": {
    "collapsed": true,
    "slideshow": {
     "slide_type": "skip"
    }
   },
   "outputs": [],
   "source": [
    "del autoencoder"
   ]
  },
  {
   "cell_type": "markdown",
   "metadata": {
    "slideshow": {
     "slide_type": "slide"
    }
   },
   "source": [
    "## Sparse AutoEncoder:"
   ]
  },
  {
   "cell_type": "code",
   "execution_count": 20,
   "metadata": {
    "collapsed": true,
    "slideshow": {
     "slide_type": "subslide"
    }
   },
   "outputs": [],
   "source": [
    "# add a Dense layer with a L1 activity regularizer\n",
    "from keras import regularizers\n",
    "encoded = Dense(encodingDim, activation='relu',\n",
    "                activity_regularizer=regularizers.l1(10e-8))(inputImg)\n",
    "decoded = Dense(784, activation='sigmoid')(encoded)\n",
    "\n",
    "autoencoder = Model(inputImg, decoded)"
   ]
  },
  {
   "cell_type": "code",
   "execution_count": 21,
   "metadata": {
    "collapsed": true,
    "slideshow": {
     "slide_type": "subslide"
    }
   },
   "outputs": [],
   "source": [
    "autoencoder = Model(inputImg, decoded)"
   ]
  },
  {
   "cell_type": "code",
   "execution_count": 22,
   "metadata": {
    "collapsed": true,
    "slideshow": {
     "slide_type": "fragment"
    }
   },
   "outputs": [],
   "source": [
    "autoencoder.compile(optimizer='adadelta', loss='binary_crossentropy')"
   ]
  },
  {
   "cell_type": "code",
   "execution_count": null,
   "metadata": {
    "collapsed": true,
    "slideshow": {
     "slide_type": "subslide"
    }
   },
   "outputs": [],
   "source": [
    "autoencoder.fit(x_train, x_train,\n",
    "                epochs=50,\n",
    "                batch_size=256,\n",
    "                shuffle=True,\n",
    "                validation_data=(x_test, x_test))"
   ]
  },
  {
   "cell_type": "code",
   "execution_count": 24,
   "metadata": {
    "collapsed": true,
    "slideshow": {
     "slide_type": "subslide"
    }
   },
   "outputs": [],
   "source": [
    "# ignore training for now, just load the model\n",
    "from keras.models import load_model\n",
    "autoencoder = load_model('sparseAE.h5')"
   ]
  },
  {
   "cell_type": "code",
   "execution_count": 44,
   "metadata": {
    "collapsed": true,
    "slideshow": {
     "slide_type": "subslide"
    }
   },
   "outputs": [],
   "source": [
    "# save models and weights\n",
    "autoencoder.save('sparseAE.h5')"
   ]
  },
  {
   "cell_type": "code",
   "execution_count": 25,
   "metadata": {
    "slideshow": {
     "slide_type": "subslide"
    }
   },
   "outputs": [
    {
     "data": {
      "image/png": "[encoded data removed]",
      "text/plain": [
       "<matplotlib.figure.Figure at 0x14381c75c50>"
      ]
     },
     "metadata": {},
     "output_type": "display_data"
    },
    {
     "data": {
      "image/png": "[encoded data removed]",
      "text/plain": [
       "<matplotlib.figure.Figure at 0x143815fdc50>"
      ]
     },
     "metadata": {},
     "output_type": "display_data"
    }
   ],
   "source": [
    "decodedImgs = autoencoder.predict(x_test)\n",
    "allIdx = range(10)\n",
    "plotSpecialTool(x_test,[],samples2Visualize=10,factors=[1,10], figsize=(12,3), grayFlag=False, thr=0.0, reshaper=(28,28), indexes=allIdx)\n",
    "plotSpecialTool(decodedImgs,[],samples2Visualize=10,factors=[1,10], figsize=(12,3), grayFlag=False, thr=0.0, reshaper=(28,28), indexes=allIdx)\n",
    "plt.show()"
   ]
  },
  {
   "cell_type": "markdown",
   "metadata": {
    "slideshow": {
     "slide_type": "slide"
    }
   },
   "source": [
    "## Deep AutoEncoder:"
   ]
  },
  {
   "cell_type": "code",
   "execution_count": 26,
   "metadata": {
    "collapsed": true,
    "slideshow": {
     "slide_type": "subslide"
    }
   },
   "outputs": [],
   "source": [
    "# easily extendible to deep\n",
    "input_img = Input(shape=(784,))\n",
    "encoded = Dense(128, activation='relu')(input_img)"
   ]
  },
  {
   "cell_type": "code",
   "execution_count": 27,
   "metadata": {
    "collapsed": true,
    "slideshow": {
     "slide_type": "fragment"
    }
   },
   "outputs": [],
   "source": [
    "encoded = Dense(64, activation='relu')(encoded)"
   ]
  },
  {
   "cell_type": "code",
   "execution_count": 28,
   "metadata": {
    "collapsed": true,
    "slideshow": {
     "slide_type": "fragment"
    }
   },
   "outputs": [],
   "source": [
    "encoded = Dense(32, activation='relu')(encoded)"
   ]
  },
  {
   "cell_type": "code",
   "execution_count": 29,
   "metadata": {
    "collapsed": true,
    "slideshow": {
     "slide_type": "subslide"
    }
   },
   "outputs": [],
   "source": [
    "decoded = Dense(64, activation='relu')(encoded)\n",
    "decoded = Dense(128, activation='relu')(decoded)\n",
    "decoded = Dense(784, activation='sigmoid')(decoded)"
   ]
  },
  {
   "cell_type": "code",
   "execution_count": null,
   "metadata": {
    "collapsed": true,
    "slideshow": {
     "slide_type": "subslide"
    }
   },
   "outputs": [],
   "source": [
    "autoencoder = Model(input_img, decoded)\n",
    "autoencoder.compile(optimizer='adadelta', loss='binary_crossentropy')\n",
    "\n",
    "autoencoder.fit(x_train, x_train,\n",
    "                epochs=100,\n",
    "                batch_size=256,\n",
    "                shuffle=True,\n",
    "                validation_data=(x_test, x_test))"
   ]
  },
  {
   "cell_type": "code",
   "execution_count": 31,
   "metadata": {
    "collapsed": true,
    "slideshow": {
     "slide_type": "subslide"
    }
   },
   "outputs": [],
   "source": [
    "# ignore training for now, just load the model\n",
    "from keras.models import load_model\n",
    "autoencoder = load_model('deepAE.h5')"
   ]
  },
  {
   "cell_type": "code",
   "execution_count": 35,
   "metadata": {
    "collapsed": true,
    "slideshow": {
     "slide_type": "subslide"
    }
   },
   "outputs": [],
   "source": [
    "# save models and weights\n",
    "autoencoder.save('deepAE.h5')"
   ]
  },
  {
   "cell_type": "code",
   "execution_count": 32,
   "metadata": {
    "slideshow": {
     "slide_type": "subslide"
    }
   },
   "outputs": [
    {
     "data": {
      "image/png": "[encoded data removed]",
      "text/plain": [
       "<matplotlib.figure.Figure at 0x14386e0cf60>"
      ]
     },
     "metadata": {},
     "output_type": "display_data"
    },
    {
     "data": {
      "image/png": "[encoded data removed]",
      "text/plain": [
       "<matplotlib.figure.Figure at 0x14386dfcbe0>"
      ]
     },
     "metadata": {},
     "output_type": "display_data"
    }
   ],
   "source": [
    "decodedImgs = autoencoder.predict(x_test)\n",
    "allIdx = range(10)\n",
    "plotSpecialTool(x_test,[],samples2Visualize=10,factors=[1,10], figsize=(12,3), grayFlag=False, thr=0.0, reshaper=(28,28), indexes=allIdx)\n",
    "plotSpecialTool(decodedImgs,[],samples2Visualize=10,factors=[1,10], figsize=(12,3), grayFlag=False, thr=0.0, reshaper=(28,28), indexes=allIdx)\n",
    "plt.show()"
   ]
  },
  {
   "cell_type": "markdown",
   "metadata": {
    "collapsed": true,
    "slideshow": {
     "slide_type": "slide"
    }
   },
   "source": [
    "Encoder and and decoder steps can be fully connected, convolutional, recurrent, etc."
   ]
  },
  {
   "cell_type": "markdown",
   "metadata": {
    "slideshow": {
     "slide_type": "fragment"
    }
   },
   "source": [
    "<div style=\"width: 1000px; float:right;margin:0 10px 10px 0\" markdown=\"1\">\n",
    "![tfImage](elements/images/01AE/Autoencoder.png)\n",
    "</div>"
   ]
  },
  {
   "cell_type": "markdown",
   "metadata": {
    "slideshow": {
     "slide_type": "slide"
    }
   },
   "source": [
    "## Convolutional AutoEncoder"
   ]
  },
  {
   "cell_type": "code",
   "execution_count": 28,
   "metadata": {
    "collapsed": true,
    "slideshow": {
     "slide_type": "subslide"
    }
   },
   "outputs": [],
   "source": [
    "from keras.datasets import mnist\n",
    "import numpy as np\n",
    "\n",
    "(x_train, _), (x_test, _) = mnist.load_data()\n",
    "\n",
    "x_train = x_train.astype('float32') / 255.\n",
    "x_test = x_test.astype('float32') / 255.\n",
    "x_train = np.reshape(x_train, (len(x_train), 28, 28, 1))  # adapt this if using `channels_first` image data format\n",
    "x_test = np.reshape(x_test, (len(x_test), 28, 28, 1))  # adapt this if using `channels_first` image data format"
   ]
  },
  {
   "cell_type": "code",
   "execution_count": 29,
   "metadata": {
    "collapsed": true,
    "slideshow": {
     "slide_type": "subslide"
    }
   },
   "outputs": [],
   "source": [
    "from keras.layers import Input, Dense, Conv2D, MaxPooling2D, UpSampling2D\n",
    "from keras.models import Model\n",
    "from keras import backend as K\n",
    "\n",
    "input_img = Input(shape=(28, 28, 1))  # adapt this if using `channels_first` image data format"
   ]
  },
  {
   "cell_type": "code",
   "execution_count": 30,
   "metadata": {
    "collapsed": true,
    "slideshow": {
     "slide_type": "subslide"
    }
   },
   "outputs": [],
   "source": [
    "x = Conv2D(16, (3, 3), activation='relu', padding='same')(input_img)"
   ]
  },
  {
   "cell_type": "code",
   "execution_count": 31,
   "metadata": {
    "collapsed": true,
    "slideshow": {
     "slide_type": "fragment"
    }
   },
   "outputs": [],
   "source": [
    "x = MaxPooling2D((2, 2), padding='same')(x)"
   ]
  },
  {
   "cell_type": "code",
   "execution_count": 32,
   "metadata": {
    "collapsed": true,
    "slideshow": {
     "slide_type": "fragment"
    }
   },
   "outputs": [],
   "source": [
    "x = Conv2D(8, (3, 3), activation='relu', padding='same')(x)"
   ]
  },
  {
   "cell_type": "code",
   "execution_count": 33,
   "metadata": {
    "collapsed": true,
    "slideshow": {
     "slide_type": "subslide"
    }
   },
   "outputs": [],
   "source": [
    "x = MaxPooling2D((2, 2), padding='same')(x)"
   ]
  },
  {
   "cell_type": "code",
   "execution_count": 34,
   "metadata": {
    "collapsed": true,
    "slideshow": {
     "slide_type": "fragment"
    }
   },
   "outputs": [],
   "source": [
    "x = Conv2D(8, (3, 3), activation='relu', padding='same')(x)"
   ]
  },
  {
   "cell_type": "code",
   "execution_count": 35,
   "metadata": {
    "collapsed": true,
    "slideshow": {
     "slide_type": "fragment"
    }
   },
   "outputs": [],
   "source": [
    "encoded = MaxPooling2D((2, 2), padding='same')(x)"
   ]
  },
  {
   "cell_type": "code",
   "execution_count": 36,
   "metadata": {
    "collapsed": true,
    "slideshow": {
     "slide_type": "subslide"
    }
   },
   "outputs": [],
   "source": [
    "x = Conv2D(8, (3, 3), activation='relu', padding='same')(encoded)"
   ]
  },
  {
   "cell_type": "code",
   "execution_count": 37,
   "metadata": {
    "collapsed": true,
    "slideshow": {
     "slide_type": "fragment"
    }
   },
   "outputs": [],
   "source": [
    "x = UpSampling2D((2, 2))(x)"
   ]
  },
  {
   "cell_type": "code",
   "execution_count": 38,
   "metadata": {
    "collapsed": true,
    "slideshow": {
     "slide_type": "fragment"
    }
   },
   "outputs": [],
   "source": [
    "x = Conv2D(8, (3, 3), activation='relu', padding='same')(x)"
   ]
  },
  {
   "cell_type": "code",
   "execution_count": 39,
   "metadata": {
    "collapsed": true,
    "slideshow": {
     "slide_type": "fragment"
    }
   },
   "outputs": [],
   "source": [
    "x = UpSampling2D((2, 2))(x)"
   ]
  },
  {
   "cell_type": "code",
   "execution_count": 40,
   "metadata": {
    "collapsed": true,
    "slideshow": {
     "slide_type": "subslide"
    }
   },
   "outputs": [],
   "source": [
    "x = Conv2D(16, (3, 3), activation='relu')(x)"
   ]
  },
  {
   "cell_type": "code",
   "execution_count": 41,
   "metadata": {
    "collapsed": true,
    "slideshow": {
     "slide_type": "fragment"
    }
   },
   "outputs": [],
   "source": [
    "x = UpSampling2D((2, 2))(x)"
   ]
  },
  {
   "cell_type": "code",
   "execution_count": 42,
   "metadata": {
    "collapsed": true,
    "slideshow": {
     "slide_type": "fragment"
    }
   },
   "outputs": [],
   "source": [
    "decoded = Conv2D(1, (3, 3), activation='sigmoid', padding='same')(x)"
   ]
  },
  {
   "cell_type": "code",
   "execution_count": 43,
   "metadata": {
    "collapsed": true,
    "slideshow": {
     "slide_type": "subslide"
    }
   },
   "outputs": [],
   "source": [
    "autoencoder = Model(input_img, decoded)\n",
    "autoencoder.compile(optimizer='adadelta', loss='binary_crossentropy')"
   ]
  },
  {
   "cell_type": "markdown",
   "metadata": {
    "slideshow": {
     "slide_type": "subslide"
    }
   },
   "source": [
    "# run tensorboard in your command line\n",
    "tensorboard --logdir=/tmp/autoencoder"
   ]
  },
  {
   "cell_type": "code",
   "execution_count": 45,
   "metadata": {
    "slideshow": {
     "slide_type": "subslide"
    }
   },
   "outputs": [
    {
     "name": "stdout",
     "output_type": "stream",
     "text": [
      "Train on 60000 samples, validate on 10000 samples\n",
      "Epoch 1/5\n",
      "60000/60000 [==============================] - 168s - loss: 0.1368 - val_loss: 0.1305\n",
      "Epoch 2/5\n",
      "60000/60000 [==============================] - 13815s - loss: 0.1314 - val_loss: 0.1280\n",
      "Epoch 3/5\n",
      "60000/60000 [==============================] - 200s - loss: 0.1271 - val_loss: 0.1230\n",
      "Epoch 4/5\n",
      "60000/60000 [==============================] - 209s - loss: 0.1240 - val_loss: 0.1242\n",
      "Epoch 5/5\n",
      "60000/60000 [==============================] - 192s - loss: 0.1217 - val_loss: 0.1191\n"
     ]
    },
    {
     "data": {
      "text/plain": [
       "<keras.callbacks.History at 0x21de7f229b0>"
      ]
     },
     "execution_count": 45,
     "metadata": {},
     "output_type": "execute_result"
    }
   ],
   "source": [
    "from keras.callbacks import TensorBoard\n",
    "\n",
    "autoencoder.fit(x_train, x_train,\n",
    "                epochs=5,\n",
    "                batch_size=128,\n",
    "                shuffle=True,\n",
    "                validation_data=(x_test, x_test),\n",
    "                callbacks=[TensorBoard(log_dir='/tmp/autoencoder')])"
   ]
  },
  {
   "cell_type": "code",
   "execution_count": 49,
   "metadata": {
    "collapsed": true,
    "slideshow": {
     "slide_type": "subslide"
    }
   },
   "outputs": [],
   "source": [
    "# ignore training for now, just load the model\n",
    "from keras.models import load_model\n",
    "autoencoder = load_model('convAE.h5')"
   ]
  },
  {
   "cell_type": "code",
   "execution_count": 60,
   "metadata": {
    "collapsed": true,
    "slideshow": {
     "slide_type": "subslide"
    }
   },
   "outputs": [],
   "source": [
    "# save models and weights\n",
    "autoencoder.save('convAE.h5')"
   ]
  },
  {
   "cell_type": "code",
   "execution_count": 50,
   "metadata": {
    "slideshow": {
     "slide_type": "subslide"
    }
   },
   "outputs": [
    {
     "data": {
      "image/png": "[encoded data removed]",
      "text/plain": [
       "<matplotlib.figure.Figure at 0x14387648240>"
      ]
     },
     "metadata": {},
     "output_type": "display_data"
    },
    {
     "data": {
      "image/png": "[encoded data removed]",
      "text/plain": [
       "<matplotlib.figure.Figure at 0x143875ef240>"
      ]
     },
     "metadata": {},
     "output_type": "display_data"
    }
   ],
   "source": [
    "decodedImgs = autoencoder.predict(x_test)\n",
    "allIdx = range(10)\n",
    "plotSpecialTool(x_test,[],samples2Visualize=10,factors=[1,10], figsize=(12,3), grayFlag=False, thr=0.0, reshaper=(28,28), indexes=allIdx)\n",
    "plotSpecialTool(decodedImgs,[],samples2Visualize=10,factors=[1,10], figsize=(12,3), grayFlag=False, thr=0.0, reshaper=(28,28), indexes=allIdx)\n",
    "plt.show()"
   ]
  },
  {
   "cell_type": "markdown",
   "metadata": {
    "slideshow": {
     "slide_type": "slide"
    }
   },
   "source": [
    "## Denoising AutoEncoder"
   ]
  },
  {
   "cell_type": "code",
   "execution_count": 51,
   "metadata": {
    "collapsed": true,
    "slideshow": {
     "slide_type": "subslide"
    }
   },
   "outputs": [],
   "source": [
    "from keras.datasets import mnist\n",
    "import numpy as np\n",
    "\n",
    "(x_train, _), (x_test, _) = mnist.load_data()\n",
    "\n",
    "x_train = x_train.astype('float32') / 255.\n",
    "x_test = x_test.astype('float32') / 255.\n",
    "x_train = np.reshape(x_train, (len(x_train), 28, 28, 1))  # adapt this if using `channels_first` image data format\n",
    "x_test = np.reshape(x_test, (len(x_test), 28, 28, 1))  # adapt this if using `channels_first` image data format"
   ]
  },
  {
   "cell_type": "code",
   "execution_count": 52,
   "metadata": {
    "collapsed": true,
    "slideshow": {
     "slide_type": "subslide"
    }
   },
   "outputs": [],
   "source": [
    "noise_factor = 0.5\n",
    "x_train_noisy = x_train + noise_factor * np.random.normal(loc=0.0, scale=1.0, size=x_train.shape) \n",
    "x_test_noisy = x_test + noise_factor * np.random.normal(loc=0.0, scale=1.0, size=x_test.shape) \n",
    "\n",
    "x_train_noisy = np.clip(x_train_noisy, 0., 1.)\n",
    "x_test_noisy = np.clip(x_test_noisy, 0., 1.)"
   ]
  },
  {
   "cell_type": "code",
   "execution_count": 53,
   "metadata": {
    "slideshow": {
     "slide_type": "subslide"
    }
   },
   "outputs": [
    {
     "data": {
      "image/png": "[encoded data removed]",
      "text/plain": [
       "<matplotlib.figure.Figure at 0x14388e775f8>"
      ]
     },
     "metadata": {},
     "output_type": "display_data"
    }
   ],
   "source": [
    "plotSpecialTool(x_test_noisy,[],samples2Visualize=10,factors=[1,10], figsize=(12,3), grayFlag=False, thr=0.0, reshaper=(28,28), indexes=allIdx)\n",
    "plt.show()"
   ]
  },
  {
   "cell_type": "code",
   "execution_count": 61,
   "metadata": {
    "collapsed": true,
    "slideshow": {
     "slide_type": "subslide"
    }
   },
   "outputs": [],
   "source": [
    "input_img = Input(shape=(28, 28, 1))  # adapt this if using `channels_first` image data format"
   ]
  },
  {
   "cell_type": "code",
   "execution_count": 62,
   "metadata": {
    "collapsed": true,
    "slideshow": {
     "slide_type": "fragment"
    }
   },
   "outputs": [],
   "source": [
    "x = Conv2D(32, (3, 3), activation='relu', padding='same')(input_img)"
   ]
  },
  {
   "cell_type": "code",
   "execution_count": 63,
   "metadata": {
    "collapsed": true,
    "slideshow": {
     "slide_type": "fragment"
    }
   },
   "outputs": [],
   "source": [
    "x = MaxPooling2D((2, 2), padding='same')(x)"
   ]
  },
  {
   "cell_type": "code",
   "execution_count": 64,
   "metadata": {
    "collapsed": true,
    "slideshow": {
     "slide_type": "subslide"
    }
   },
   "outputs": [],
   "source": [
    "x = Conv2D(32, (3, 3), activation='relu', padding='same')(x)\n",
    "encoded = MaxPooling2D((2, 2), padding='same')(x)"
   ]
  },
  {
   "cell_type": "code",
   "execution_count": 65,
   "metadata": {
    "collapsed": true,
    "slideshow": {
     "slide_type": "fragment"
    }
   },
   "outputs": [],
   "source": [
    "# at this point the representation is (7, 7, 32)\n",
    "x = Conv2D(32, (3, 3), activation='relu', padding='same')(encoded)\n",
    "x = UpSampling2D((2, 2))(x)"
   ]
  },
  {
   "cell_type": "code",
   "execution_count": 66,
   "metadata": {
    "collapsed": true,
    "slideshow": {
     "slide_type": "fragment"
    }
   },
   "outputs": [],
   "source": [
    "x = Conv2D(32, (3, 3), activation='relu', padding='same')(x)\n",
    "x = UpSampling2D((2, 2))(x)\n",
    "decoded = Conv2D(1, (3, 3), activation='sigmoid', padding='same')(x)"
   ]
  },
  {
   "cell_type": "code",
   "execution_count": 67,
   "metadata": {
    "collapsed": true,
    "slideshow": {
     "slide_type": "subslide"
    }
   },
   "outputs": [],
   "source": [
    "autoencoder = Model(input_img, decoded)\n",
    "autoencoder.compile(optimizer='adadelta', loss='binary_crossentropy')"
   ]
  },
  {
   "cell_type": "code",
   "execution_count": 70,
   "metadata": {
    "slideshow": {
     "slide_type": "subslide"
    }
   },
   "outputs": [
    {
     "name": "stdout",
     "output_type": "stream",
     "text": [
      "Train on 60000 samples, validate on 10000 samples\n",
      "Epoch 1/5\n",
      "60000/60000 [==============================] - 452s - loss: 0.1872 - val_loss: 0.1329\n",
      "Epoch 2/5\n",
      "60000/60000 [==============================] - 463s - loss: 0.1245 - val_loss: 0.1152\n",
      "Epoch 3/5\n",
      "60000/60000 [==============================] - 471s - loss: 0.1151 - val_loss: 0.1120\n",
      "Epoch 4/5\n",
      "60000/60000 [==============================] - 465s - loss: 0.1109 - val_loss: 0.1075\n",
      "Epoch 5/5\n",
      "60000/60000 [==============================] - 475s - loss: 0.1083 - val_loss: 0.1069\n"
     ]
    },
    {
     "data": {
      "text/plain": [
       "<keras.callbacks.History at 0x1e9222a5048>"
      ]
     },
     "execution_count": 70,
     "metadata": {},
     "output_type": "execute_result"
    }
   ],
   "source": [
    "autoencoder.fit(x_train_noisy, x_train,\n",
    "                epochs=5,\n",
    "                batch_size=128,\n",
    "                shuffle=True,\n",
    "                validation_data=(x_test_noisy, x_test),\n",
    "                callbacks=[TensorBoard(log_dir='/tmp/tb', histogram_freq=0, write_graph=False)])"
   ]
  },
  {
   "cell_type": "code",
   "execution_count": 68,
   "metadata": {
    "collapsed": true,
    "slideshow": {
     "slide_type": "subslide"
    }
   },
   "outputs": [],
   "source": [
    "# ignore training for now, just load the model\n",
    "from keras.models import load_model\n",
    "autoencoder = load_model('denoiseAE.h5')"
   ]
  },
  {
   "cell_type": "code",
   "execution_count": 71,
   "metadata": {
    "collapsed": true,
    "slideshow": {
     "slide_type": "subslide"
    }
   },
   "outputs": [],
   "source": [
    "# save models and weights\n",
    "autoencoder.save('denoiseAE.h5')"
   ]
  },
  {
   "cell_type": "code",
   "execution_count": 69,
   "metadata": {
    "slideshow": {
     "slide_type": "subslide"
    }
   },
   "outputs": [
    {
     "data": {
      "image/png": "[encoded data removed]",
      "text/plain": [
       "<matplotlib.figure.Figure at 0x1438ac455f8>"
      ]
     },
     "metadata": {},
     "output_type": "display_data"
    },
    {
     "data": {
      "image/png": "[encoded data removed]",
      "text/plain": [
       "<matplotlib.figure.Figure at 0x1438ac45668>"
      ]
     },
     "metadata": {},
     "output_type": "display_data"
    }
   ],
   "source": [
    "decodedImgs = autoencoder.predict(x_test_noisy)\n",
    "allIdx = range(10)\n",
    "plotSpecialTool(x_test_noisy,[],samples2Visualize=10,factors=[1,10], figsize=(12,3), grayFlag=False, thr=0.0, reshaper=(28,28), indexes=allIdx)\n",
    "plotSpecialTool(decodedImgs,[],samples2Visualize=10,factors=[1,10], figsize=(12,3), grayFlag=False, thr=0.0, reshaper=(28,28), indexes=allIdx)\n",
    "plt.show()"
   ]
  },
  {
   "cell_type": "markdown",
   "metadata": {
    "slideshow": {
     "slide_type": "subslide"
    }
   },
   "source": [
    "References:\n",
    "    1. https://blog.keras.io/building-autoencoders-in-keras.html\n",
    "    2. http://www.birving.com/presentations/autoencoders/index.html\n",
    "    3. http://www.deeplearningbook.org/contents/autoencoders.html\n",
    "    4. https://github.com/fchollet/keras/blob/master/examples/imdb_cnn_lstm.py"
   ]
  }
 ],
 "metadata": {
  "anaconda-cloud": {},
  "celltoolbar": "Slideshow",
  "kernelspec": {
   "display_name": "Python [conda root]",
   "language": "python",
   "name": "conda-root-py"
  },
  "language_info": {
   "codemirror_mode": {
    "name": "ipython",
    "version": 3
   },
   "file_extension": ".py",
   "mimetype": "text/x-python",
   "name": "python",
   "nbconvert_exporter": "python",
   "pygments_lexer": "ipython3",
   "version": "3.6.1"
  },
  "nbpresent": {
   "slides": {
    "113a8352-580e-4a0d-b34d-0b7c12e8e7e5": {
     "id": "113a8352-580e-4a0d-b34d-0b7c12e8e7e5",
     "prev": "ba98ddae-2c9b-4421-b232-baa80009c109",
     "regions": {
      "6e23bd89-1324-4fff-9df7-5bbd8c25159f": {
       "attrs": {
        "height": 0.8,
        "width": 0.45,
        "x": 0.5,
        "y": 0.1
       },
       "content": {
        "cell": "7b17b65a-de1e-4e3b-ac9c-0107b20ebbd6",
        "part": "whole"
       },
       "id": "6e23bd89-1324-4fff-9df7-5bbd8c25159f"
      },
      "a27398b3-e720-442f-82ff-057272dfc022": {
       "attrs": {
        "height": 0.8,
        "width": 0.45,
        "x": 0.05,
        "y": 0.1
       },
       "content": {
        "cell": "498fd9f9-3661-40da-ad6a-24b728617ae8",
        "part": "whole"
       },
       "id": "a27398b3-e720-442f-82ff-057272dfc022"
      }
     }
    },
    "162cdbda-85e4-4508-bbff-6fdaac754851": {
     "id": "162cdbda-85e4-4508-bbff-6fdaac754851",
     "prev": "35b5ea8c-14b7-401a-8724-62f7ffb0599f",
     "regions": {
      "06421807-c26e-42bb-851d-12d0857a9970": {
       "attrs": {
        "height": 0.2,
        "width": 0.4,
        "x": 0.5,
        "y": 0.7
       },
       "id": "06421807-c26e-42bb-851d-12d0857a9970"
      },
      "236af788-ea96-43eb-88c9-f4307f42d78d": {
       "attrs": {
        "height": 0.2,
        "width": 0.4,
        "x": 0.1,
        "y": 0.7
       },
       "content": {
        "cell": "970f6553-f8f0-4ac9-9d93-babaf8309d88",
        "part": "whole"
       },
       "id": "236af788-ea96-43eb-88c9-f4307f42d78d"
      },
      "8d464a40-5403-427d-a1ce-c733db96bdc7": {
       "attrs": {
        "height": 0.6,
        "width": 0.8,
        "x": 0.1,
        "y": 0.1
       },
       "content": {
        "cell": "0e0afbf2-ee29-4a9a-9daf-1baa32abc47d",
        "part": "whole"
       },
       "id": "8d464a40-5403-427d-a1ce-c733db96bdc7"
      }
     }
    },
    "346c96ac-8399-4dfd-9100-1b2b681f7526": {
     "id": "346c96ac-8399-4dfd-9100-1b2b681f7526",
     "prev": "4462880f-3356-47a1-b030-d78c2bc9ca42",
     "regions": {
      "0580fc87-b0a6-4eda-a8f5-ec8a9f96266d": {
       "attrs": {
        "height": 1,
        "width": 1,
        "x": 0,
        "y": 0
       },
       "content": {
        "cell": "66256af6-50c1-4bca-8bde-0c2afcff2ff8",
        "part": "whole"
       },
       "id": "0580fc87-b0a6-4eda-a8f5-ec8a9f96266d"
      }
     }
    },
    "35b5ea8c-14b7-401a-8724-62f7ffb0599f": {
     "id": "35b5ea8c-14b7-401a-8724-62f7ffb0599f",
     "prev": "736e64e3-a58c-4f95-9119-19f412f80e0f",
     "regions": {
      "57809633-4fce-404a-a4be-468f787227cf": {
       "attrs": {
        "height": 1,
        "width": 1,
        "x": 0,
        "y": 0
       },
       "content": {
        "cell": "eff07840-458f-4be7-99d5-d2f0517ec876",
        "part": "whole"
       },
       "id": "57809633-4fce-404a-a4be-468f787227cf"
      }
     }
    },
    "3fb8a338-2683-44e9-9f69-4e56363d0160": {
     "id": "3fb8a338-2683-44e9-9f69-4e56363d0160",
     "prev": "113a8352-580e-4a0d-b34d-0b7c12e8e7e5",
     "regions": {
      "8419922c-09b7-45ba-9486-f300ec29d54d": {
       "attrs": {
        "height": 1,
        "width": 1,
        "x": 0,
        "y": 0
       },
       "content": {
        "cell": "dc3bbf7d-f48a-461f-97a9-1027351a4993",
        "part": "whole"
       },
       "id": "8419922c-09b7-45ba-9486-f300ec29d54d"
      }
     }
    },
    "436f3d92-07c7-445a-bbe4-9b959c74d385": {
     "id": "436f3d92-07c7-445a-bbe4-9b959c74d385",
     "prev": "346c96ac-8399-4dfd-9100-1b2b681f7526",
     "regions": {
      "80f52c4e-f43b-4617-951b-63cf52e4c6fd": {
       "attrs": {
        "height": 1,
        "width": 1,
        "x": 0,
        "y": 0
       },
       "content": {
        "cell": "e1abfc20-184d-4b89-8cd2-405d037b3252",
        "part": "whole"
       },
       "id": "80f52c4e-f43b-4617-951b-63cf52e4c6fd"
      }
     }
    },
    "4462880f-3356-47a1-b030-d78c2bc9ca42": {
     "id": "4462880f-3356-47a1-b030-d78c2bc9ca42",
     "prev": null,
     "regions": {
      "0b9f0747-e037-43e7-bf51-9c60cf713ddd": {
       "attrs": {
        "height": 0.6,
        "width": 0.8,
        "x": 0.1,
        "y": 0.10000000000000002
       },
       "content": {
        "cell": "259c7cf4-940f-4534-97c5-3cd7aa7e1a5f",
        "part": "whole"
       },
       "id": "0b9f0747-e037-43e7-bf51-9c60cf713ddd"
      },
      "63e2466f-a9b3-4b5a-94bf-445d8dd2b9ab": {
       "attrs": {
        "height": 0.20000000000000004,
        "width": 0.4,
        "x": 0.5,
        "y": 0.6999999999999998
       },
       "content": {
        "cell": "dc845977-c189-43d6-b9c8-6ea04c03501e",
        "part": "whole"
       },
       "id": "63e2466f-a9b3-4b5a-94bf-445d8dd2b9ab"
      },
      "8acf0861-b2c2-47a8-9150-5d97e2caaee8": {
       "attrs": {
        "height": 0.2,
        "width": 0.4,
        "x": 0.1,
        "y": 0.7
       },
       "id": "8acf0861-b2c2-47a8-9150-5d97e2caaee8"
      }
     }
    },
    "736e64e3-a58c-4f95-9119-19f412f80e0f": {
     "id": "736e64e3-a58c-4f95-9119-19f412f80e0f",
     "prev": "3fb8a338-2683-44e9-9f69-4e56363d0160",
     "regions": {
      "6022d369-a060-4fc8-bff2-eff7d940d95b": {
       "attrs": {
        "height": 0.8,
        "width": 0.45,
        "x": 0.5,
        "y": 0.1
       },
       "content": {
        "cell": "f48e8ce8-ac61-4ba4-9514-ea6ec8ef1902",
        "part": "whole"
       },
       "id": "6022d369-a060-4fc8-bff2-eff7d940d95b"
      },
      "d1c573bf-8fd0-4dce-9639-0ab9e05abbf5": {
       "attrs": {
        "height": 0.8,
        "width": 0.45,
        "x": 0.05,
        "y": 0.1
       },
       "content": {
        "cell": "498fd9f9-3661-40da-ad6a-24b728617ae8",
        "part": "whole"
       },
       "id": "d1c573bf-8fd0-4dce-9639-0ab9e05abbf5"
      }
     }
    },
    "a3d7ebc3-2ef7-464e-99e2-29b63f4ba309": {
     "id": "a3d7ebc3-2ef7-464e-99e2-29b63f4ba309",
     "prev": "162cdbda-85e4-4508-bbff-6fdaac754851",
     "regions": {
      "adb81c8b-3784-480c-945c-845406af3115": {
       "attrs": {
        "height": 1,
        "width": 1,
        "x": 0,
        "y": 0
       },
       "content": {
        "cell": "4cf853ad-7774-4299-bf18-874e082c795f",
        "part": "whole"
       },
       "id": "adb81c8b-3784-480c-945c-845406af3115"
      }
     }
    },
    "ba98ddae-2c9b-4421-b232-baa80009c109": {
     "id": "ba98ddae-2c9b-4421-b232-baa80009c109",
     "prev": "436f3d92-07c7-445a-bbe4-9b959c74d385",
     "regions": {
      "4baceccd-2f27-4a96-8d3a-777626532b98": {
       "attrs": {
        "height": 0.8,
        "width": 0.8,
        "x": 0.1,
        "y": 0.1
       },
       "content": {
        "cell": "7dff8ae0-2573-447a-a7ae-d2740c87c332",
        "part": "whole"
       },
       "id": "4baceccd-2f27-4a96-8d3a-777626532b98"
      }
     }
    }
   },
   "themes": {
    "default": "36fe9b9a-0d55-4c25-b183-2cd2ad2d1e39",
    "theme": {
     "163e68e1-05ec-4bb1-8393-b8256811b945": {
      "backgrounds": {
       "backgroundColor": {
        "background-color": "backgroundColor",
        "id": "backgroundColor"
       }
      },
      "id": "163e68e1-05ec-4bb1-8393-b8256811b945",
      "palette": {
       "backgroundColor": {
        "id": "backgroundColor",
        "rgb": [
         253,
         246,
         227
        ]
       },
       "headingColor": {
        "id": "headingColor",
        "rgb": [
         88,
         110,
         117
        ]
       },
       "linkColor": {
        "id": "linkColor",
        "rgb": [
         38,
         139,
         210
        ]
       },
       "mainColor": {
        "id": "mainColor",
        "rgb": [
         101,
         123,
         131
        ]
       }
      },
      "rules": {
       "a": {
        "color": "linkColor"
       },
       "h1": {
        "color": "headingColor",
        "font-family": "Oswald",
        "font-size": 7
       },
       "h2": {
        "color": "headingColor",
        "font-family": "Oswald",
        "font-size": 5
       },
       "h3": {
        "color": "headingColor",
        "font-family": "Oswald",
        "font-size": 3.75
       },
       "h4": {
        "color": "headingColor",
        "font-family": "Oswald",
        "font-size": 3
       },
       "h5": {
        "color": "headingColor",
        "font-family": "Oswald"
       },
       "h6": {
        "color": "headingColor",
        "font-family": "Oswald"
       },
       "h7": {
        "color": "headingColor",
        "font-family": "Oswald"
       },
       "li": {
        "color": "mainColor",
        "font-family": "Lato",
        "font-size": 5
       },
       "p": {
        "color": "mainColor",
        "font-family": "Lato",
        "font-size": 5
       }
      },
      "text-base": {
       "color": "mainColor",
       "font-family": "Lato",
       "font-size": 5
      }
     },
     "2c785129-8c72-44c6-aa83-16f1bd77b8a8": {
      "backgrounds": {
       "backgroundColor": {
        "background-color": "backgroundColor",
        "id": "backgroundColor"
       }
      },
      "id": "2c785129-8c72-44c6-aa83-16f1bd77b8a8",
      "palette": {
       "backgroundColor": {
        "id": "backgroundColor",
        "rgb": [
         240,
         241,
         235
        ]
       },
       "headingColor": {
        "id": "headingColor",
        "rgb": [
         56,
         61,
         61
        ]
       },
       "linkColor": {
        "id": "linkColor",
        "rgb": [
         81,
         72,
         61
        ]
       },
       "mainColor": {
        "id": "mainColor",
        "rgb": [
         0,
         0,
         0
        ]
       }
      },
      "rules": {
       "a": {
        "color": "linkColor"
       },
       "h1": {
        "color": "headingColor",
        "font-family": "EB Garamond",
        "font-size": 7
       },
       "h2": {
        "color": "headingColor",
        "font-family": "EB Garamond",
        "font-size": 5
       },
       "h3": {
        "color": "headingColor",
        "font-family": "EB Garamond",
        "font-size": 3.75
       },
       "h4": {
        "color": "headingColor",
        "font-family": "EB Garamond",
        "font-size": 3
       },
       "h5": {
        "color": "headingColor",
        "font-family": "EB Garamond"
       },
       "h6": {
        "color": "headingColor",
        "font-family": "EB Garamond"
       },
       "h7": {
        "color": "headingColor",
        "font-family": "EB Garamond"
       },
       "li": {
        "color": "mainColor",
        "font-family": "EB Garamond",
        "font-size": 5
       },
       "p": {
        "color": "mainColor",
        "font-family": "EB Garamond",
        "font-size": 5
       }
      },
      "text-base": {
       "color": "mainColor",
       "font-family": "EB Garamond",
       "font-size": 5
      }
     },
     "36fe9b9a-0d55-4c25-b183-2cd2ad2d1e39": {
      "id": "36fe9b9a-0d55-4c25-b183-2cd2ad2d1e39",
      "palette": {
       "19cc588f-0593-49c9-9f4b-e4d7cc113b1c": {
        "id": "19cc588f-0593-49c9-9f4b-e4d7cc113b1c",
        "rgb": [
         252,
         252,
         252
        ]
       },
       "31af15d2-7e15-44c5-ab5e-e04b16a89eff": {
        "id": "31af15d2-7e15-44c5-ab5e-e04b16a89eff",
        "rgb": [
         68,
         68,
         68
        ]
       },
       "50f92c45-a630-455b-aec3-788680ec7410": {
        "id": "50f92c45-a630-455b-aec3-788680ec7410",
        "rgb": [
         155,
         177,
         192
        ]
       },
       "c5cc3653-2ee1-402a-aba2-7caae1da4f6c": {
        "id": "c5cc3653-2ee1-402a-aba2-7caae1da4f6c",
        "rgb": [
         43,
         126,
         184
        ]
       },
       "efa7f048-9acb-414c-8b04-a26811511a21": {
        "id": "efa7f048-9acb-414c-8b04-a26811511a21",
        "rgb": [
         25.118061674008803,
         73.60176211453744,
         107.4819383259912
        ]
       }
      },
      "rules": {
       "blockquote": {
        "color": "50f92c45-a630-455b-aec3-788680ec7410"
       },
       "code": {
        "font-family": "Anonymous Pro"
       },
       "h1": {
        "color": "c5cc3653-2ee1-402a-aba2-7caae1da4f6c",
        "font-family": "Lato",
        "font-size": 8
       },
       "h2": {
        "color": "c5cc3653-2ee1-402a-aba2-7caae1da4f6c",
        "font-family": "Lato",
        "font-size": 6
       },
       "h3": {
        "color": "50f92c45-a630-455b-aec3-788680ec7410",
        "font-family": "Lato",
        "font-size": 5.5
       },
       "h4": {
        "color": "c5cc3653-2ee1-402a-aba2-7caae1da4f6c",
        "font-family": "Lato",
        "font-size": 5
       },
       "h5": {
        "font-family": "Lato"
       },
       "h6": {
        "font-family": "Lato"
       },
       "h7": {
        "font-family": "Lato"
       },
       "pre": {
        "font-family": "Anonymous Pro",
        "font-size": 4
       }
      },
      "text-base": {
       "font-family": "Merriweather",
       "font-size": 4
      }
     },
     "44d5351c-dbcc-457b-a2bd-7918d82c8431": {
      "backgrounds": {
       "backgroundColor": {
        "background-color": "backgroundColor",
        "id": "backgroundColor"
       }
      },
      "id": "44d5351c-dbcc-457b-a2bd-7918d82c8431",
      "palette": {
       "backgroundColor": {
        "id": "backgroundColor",
        "rgb": [
         247,
         243,
         222
        ]
       },
       "headingColor": {
        "id": "headingColor",
        "rgb": [
         51,
         51,
         51
        ]
       },
       "linkColor": {
        "id": "linkColor",
        "rgb": [
         139,
         116,
         61
        ]
       },
       "mainColor": {
        "id": "mainColor",
        "rgb": [
         51,
         51,
         51
        ]
       }
      },
      "rules": {
       "a": {
        "color": "linkColor"
       },
       "h1": {
        "color": "headingColor",
        "font-family": "Oswald",
        "font-size": 7
       },
       "h2": {
        "color": "headingColor",
        "font-family": "Oswald",
        "font-size": 5
       },
       "h3": {
        "color": "headingColor",
        "font-family": "Oswald",
        "font-size": 3.75
       },
       "h4": {
        "color": "headingColor",
        "font-family": "Oswald",
        "font-size": 3
       },
       "h5": {
        "color": "headingColor",
        "font-family": "Oswald"
       },
       "h6": {
        "color": "headingColor",
        "font-family": "Oswald"
       },
       "h7": {
        "color": "headingColor",
        "font-family": "Oswald"
       },
       "li": {
        "color": "mainColor",
        "font-family": "Lato",
        "font-size": 5
       },
       "p": {
        "color": "mainColor",
        "font-family": "Lato",
        "font-size": 5
       }
      },
      "text-base": {
       "color": "mainColor",
       "font-family": "Lato",
       "font-size": 5
      }
     },
     "5d5ecdc8-8041-44f1-936c-4202542e68f4": {
      "backgrounds": {
       "backgroundColor": {
        "background-color": "backgroundColor",
        "id": "backgroundColor"
       }
      },
      "id": "5d5ecdc8-8041-44f1-936c-4202542e68f4",
      "palette": {
       "backgroundColor": {
        "id": "backgroundColor",
        "rgb": [
         256,
         256,
         256
        ]
       },
       "headingColor": {
        "id": "headingColor",
        "rgb": [
         34,
         34,
         34
        ]
       },
       "linkColor": {
        "id": "linkColor",
        "rgb": [
         42,
         118,
         221
        ]
       },
       "mainColor": {
        "id": "mainColor",
        "rgb": [
         34,
         34,
         34
        ]
       }
      },
      "rules": {
       "a": {
        "color": "linkColor"
       },
       "h1": {
        "color": "headingColor",
        "font-family": "Source Sans Pro",
        "font-size": 5.25
       },
       "h2": {
        "color": "headingColor",
        "font-family": "Source Sans Pro",
        "font-size": 4
       },
       "h3": {
        "color": "headingColor",
        "font-family": "Source Sans Pro",
        "font-size": 3.5
       },
       "h4": {
        "color": "headingColor",
        "font-family": "Source Sans Pro",
        "font-size": 3
       },
       "h5": {
        "color": "headingColor",
        "font-family": "Source Sans Pro"
       },
       "h6": {
        "color": "headingColor",
        "font-family": "Source Sans Pro"
       },
       "h7": {
        "color": "headingColor",
        "font-family": "Source Sans Pro"
       },
       "li": {
        "color": "mainColor",
        "font-family": "Source Sans Pro",
        "font-size": 6
       },
       "p": {
        "color": "mainColor",
        "font-family": "Source Sans Pro",
        "font-size": 6
       }
      },
      "text-base": {
       "color": "mainColor",
       "font-family": "Source Sans Pro",
       "font-size": 6
      }
     },
     "890fe3d9-f926-48fc-8a8a-16f15da4e5b6": {
      "backgrounds": {
       "backgroundColor": {
        "background-color": "backgroundColor",
        "id": "backgroundColor"
       }
      },
      "id": "890fe3d9-f926-48fc-8a8a-16f15da4e5b6",
      "palette": {
       "backgroundColor": {
        "id": "backgroundColor",
        "rgb": [
         17,
         17,
         17
        ]
       },
       "headingColor": {
        "id": "headingColor",
        "rgb": [
         238,
         238,
         238
        ]
       },
       "linkColor": {
        "id": "linkColor",
        "rgb": [
         231,
         173,
         82
        ]
       },
       "mainColor": {
        "id": "mainColor",
        "rgb": [
         238,
         238,
         238
        ]
       }
      },
      "rules": {
       "a": {
        "color": "linkColor"
       },
       "h1": {
        "color": "headingColor",
        "font-family": "Montserrat",
        "font-size": 7
       },
       "h2": {
        "color": "headingColor",
        "font-family": "Montserrat",
        "font-size": 5
       },
       "h3": {
        "color": "headingColor",
        "font-family": "Montserrat",
        "font-size": 3.75
       },
       "h4": {
        "color": "headingColor",
        "font-family": "Montserrat",
        "font-size": 3
       },
       "h5": {
        "color": "headingColor",
        "font-family": "Montserrat"
       },
       "h6": {
        "color": "headingColor",
        "font-family": "Montserrat"
       },
       "h7": {
        "color": "headingColor",
        "font-family": "Montserrat"
       },
       "li": {
        "color": "mainColor",
        "font-family": "Open Sans",
        "font-size": 4
       },
       "p": {
        "color": "mainColor",
        "font-family": "Open Sans",
        "font-size": 4
       }
      },
      "text-base": {
       "color": "mainColor",
       "font-family": "Open Sans",
       "font-size": 4
      }
     },
     "89522eee-a8f8-4ec9-b460-7fb4e04bddbe": {
      "backgrounds": {
       "backgroundColor": {
        "background-color": "backgroundColor",
        "id": "backgroundColor"
       }
      },
      "id": "89522eee-a8f8-4ec9-b460-7fb4e04bddbe",
      "palette": {
       "backgroundColor": {
        "id": "backgroundColor",
        "rgb": [
         256,
         256,
         256
        ]
       },
       "headingColor": {
        "id": "headingColor",
        "rgb": [
         0,
         0,
         0
        ]
       },
       "linkColor": {
        "id": "linkColor",
        "rgb": [
         0,
         0,
         139
        ]
       },
       "mainColor": {
        "id": "mainColor",
        "rgb": [
         0,
         0,
         0
        ]
       }
      },
      "rules": {
       "a": {
        "color": "linkColor"
       },
       "h1": {
        "color": "headingColor",
        "font-family": "News Cycle",
        "font-size": 7
       },
       "h2": {
        "color": "headingColor",
        "font-family": "News Cycle",
        "font-size": 5
       },
       "h3": {
        "color": "headingColor",
        "font-family": "News Cycle",
        "font-size": 3.75
       },
       "h4": {
        "color": "headingColor",
        "font-family": "News Cycle",
        "font-size": 3
       },
       "h5": {
        "color": "headingColor",
        "font-family": "News Cycle"
       },
       "h6": {
        "color": "headingColor",
        "font-family": "News Cycle"
       },
       "h7": {
        "color": "headingColor",
        "font-family": "News Cycle"
       },
       "li": {
        "color": "mainColor",
        "font-family": "Lato",
        "font-size": 5
       },
       "p": {
        "color": "mainColor",
        "font-family": "Lato",
        "font-size": 5
       }
      },
      "text-base": {
       "color": "mainColor",
       "font-family": "Lato",
       "font-size": 5
      }
     },
     "9c28c224-76e6-4658-9318-33b4ce7d47bf": {
      "backgrounds": {
       "backgroundColor": {
        "background-color": "backgroundColor",
        "id": "backgroundColor"
       }
      },
      "id": "9c28c224-76e6-4658-9318-33b4ce7d47bf",
      "palette": {
       "backgroundColor": {
        "id": "backgroundColor",
        "rgb": [
         34,
         34,
         34
        ]
       },
       "headingColor": {
        "id": "headingColor",
        "rgb": [
         238,
         238,
         238
        ]
       },
       "linkColor": {
        "id": "linkColor",
        "rgb": [
         170,
         34,
         51
        ]
       },
       "mainColor": {
        "id": "mainColor",
        "rgb": [
         238,
         238,
         238
        ]
       }
      },
      "rules": {
       "a": {
        "color": "linkColor"
       },
       "h1": {
        "color": "headingColor",
        "font-family": "Ubuntu",
        "font-size": 7
       },
       "h2": {
        "color": "headingColor",
        "font-family": "Ubuntu",
        "font-size": 5
       },
       "h3": {
        "color": "headingColor",
        "font-family": "Ubuntu",
        "font-size": 3.75
       },
       "h4": {
        "color": "headingColor",
        "font-family": "Ubuntu",
        "font-size": 3
       },
       "h5": {
        "color": "headingColor",
        "font-family": "Ubuntu"
       },
       "h6": {
        "color": "headingColor",
        "font-family": "Ubuntu"
       },
       "h7": {
        "color": "headingColor",
        "font-family": "Ubuntu"
       },
       "li": {
        "color": "mainColor",
        "font-family": "Ubuntu",
        "font-size": 5
       },
       "p": {
        "color": "mainColor",
        "font-family": "Ubuntu",
        "font-size": 5
       }
      },
      "text-base": {
       "color": "mainColor",
       "font-family": "Ubuntu",
       "font-size": 5
      }
     },
     "db15f592-95c4-437d-b51b-fc21c48ea367": {
      "backgrounds": {
       "backgroundColor": {
        "background-color": "backgroundColor",
        "id": "backgroundColor"
       }
      },
      "id": "db15f592-95c4-437d-b51b-fc21c48ea367",
      "palette": {
       "backgroundColor": {
        "id": "backgroundColor",
        "rgb": [
         43,
         43,
         43
        ]
       },
       "headingColor": {
        "id": "headingColor",
        "rgb": [
         238,
         238,
         238
        ]
       },
       "linkColor": {
        "id": "linkColor",
        "rgb": [
         19,
         218,
         236
        ]
       },
       "mainColor": {
        "id": "mainColor",
        "rgb": [
         238,
         238,
         238
        ]
       }
      },
      "rules": {
       "a": {
        "color": "linkColor"
       },
       "h1": {
        "color": "headingColor",
        "font-family": "Oswald",
        "font-size": 7
       },
       "h2": {
        "color": "headingColor",
        "font-family": "Oswald",
        "font-size": 5
       },
       "h3": {
        "color": "headingColor",
        "font-family": "Oswald",
        "font-size": 3.75
       },
       "h4": {
        "color": "headingColor",
        "font-family": "Oswald",
        "font-size": 3
       },
       "h5": {
        "color": "headingColor",
        "font-family": "Oswald"
       },
       "h6": {
        "color": "headingColor",
        "font-family": "Oswald"
       },
       "h7": {
        "color": "headingColor",
        "font-family": "Oswald"
       },
       "li": {
        "color": "mainColor",
        "font-family": "Lato",
        "font-size": 5
       },
       "p": {
        "color": "mainColor",
        "font-family": "Lato",
        "font-size": 5
       }
      },
      "text-base": {
       "color": "mainColor",
       "font-family": "Lato",
       "font-size": 5
      }
     },
     "eaaf3718-e393-4962-9923-0fb990ba354b": {
      "backgrounds": {
       "backgroundColor": {
        "background-color": "backgroundColor",
        "id": "backgroundColor"
       }
      },
      "id": "eaaf3718-e393-4962-9923-0fb990ba354b",
      "palette": {
       "backgroundColor": {
        "id": "backgroundColor",
        "rgb": [
         34,
         34,
         34
        ]
       },
       "headingColor": {
        "id": "headingColor",
        "rgb": [
         256,
         256,
         256
        ]
       },
       "linkColor": {
        "id": "linkColor",
        "rgb": [
         66,
         175,
         250
        ]
       },
       "mainColor": {
        "id": "mainColor",
        "rgb": [
         256,
         256,
         256
        ]
       }
      },
      "rules": {
       "a": {
        "color": "linkColor"
       },
       "h1": {
        "color": "headingColor",
        "font-family": "Source Sans Pro",
        "font-size": 5.25
       },
       "h2": {
        "color": "headingColor",
        "font-family": "Source Sans Pro",
        "font-size": 4
       },
       "h3": {
        "color": "headingColor",
        "font-family": "Source Sans Pro",
        "font-size": 3.5
       },
       "h4": {
        "color": "headingColor",
        "font-family": "Source Sans Pro",
        "font-size": 3
       },
       "h5": {
        "color": "headingColor",
        "font-family": "Source Sans Pro"
       },
       "h6": {
        "color": "headingColor",
        "font-family": "Source Sans Pro"
       },
       "h7": {
        "color": "headingColor",
        "font-family": "Source Sans Pro"
       },
       "li": {
        "color": "mainColor",
        "font-family": "Source Sans Pro",
        "font-size": 6
       },
       "p": {
        "color": "mainColor",
        "font-family": "Source Sans Pro",
        "font-size": 6
       }
      },
      "text-base": {
       "color": "mainColor",
       "font-family": "Source Sans Pro",
       "font-size": 6
      }
     },
     "ed6e54fc-c6ea-493f-93a2-21cc6bb7a7b8": {
      "backgrounds": {
       "dc7afa04-bf90-40b1-82a5-726e3cff5267": {
        "background-color": "31af15d2-7e15-44c5-ab5e-e04b16a89eff",
        "id": "dc7afa04-bf90-40b1-82a5-726e3cff5267"
       }
      },
      "id": "ed6e54fc-c6ea-493f-93a2-21cc6bb7a7b8",
      "palette": {
       "19cc588f-0593-49c9-9f4b-e4d7cc113b1c": {
        "id": "19cc588f-0593-49c9-9f4b-e4d7cc113b1c",
        "rgb": [
         252,
         252,
         252
        ]
       },
       "31af15d2-7e15-44c5-ab5e-e04b16a89eff": {
        "id": "31af15d2-7e15-44c5-ab5e-e04b16a89eff",
        "rgb": [
         68,
         68,
         68
        ]
       },
       "50f92c45-a630-455b-aec3-788680ec7410": {
        "id": "50f92c45-a630-455b-aec3-788680ec7410",
        "rgb": [
         197,
         226,
         245
        ]
       },
       "c5cc3653-2ee1-402a-aba2-7caae1da4f6c": {
        "id": "c5cc3653-2ee1-402a-aba2-7caae1da4f6c",
        "rgb": [
         43,
         126,
         184
        ]
       },
       "efa7f048-9acb-414c-8b04-a26811511a21": {
        "id": "efa7f048-9acb-414c-8b04-a26811511a21",
        "rgb": [
         25.118061674008803,
         73.60176211453744,
         107.4819383259912
        ]
       }
      },
      "rules": {
       "a": {
        "color": "19cc588f-0593-49c9-9f4b-e4d7cc113b1c"
       },
       "blockquote": {
        "color": "50f92c45-a630-455b-aec3-788680ec7410",
        "font-size": 3
       },
       "code": {
        "font-family": "Anonymous Pro"
       },
       "h1": {
        "color": "19cc588f-0593-49c9-9f4b-e4d7cc113b1c",
        "font-family": "Merriweather",
        "font-size": 8
       },
       "h2": {
        "color": "19cc588f-0593-49c9-9f4b-e4d7cc113b1c",
        "font-family": "Merriweather",
        "font-size": 6
       },
       "h3": {
        "color": "50f92c45-a630-455b-aec3-788680ec7410",
        "font-family": "Lato",
        "font-size": 5.5
       },
       "h4": {
        "color": "c5cc3653-2ee1-402a-aba2-7caae1da4f6c",
        "font-family": "Lato",
        "font-size": 5
       },
       "h5": {
        "font-family": "Lato"
       },
       "h6": {
        "font-family": "Lato"
       },
       "h7": {
        "font-family": "Lato"
       },
       "li": {
        "color": "50f92c45-a630-455b-aec3-788680ec7410",
        "font-size": 3.25
       },
       "pre": {
        "font-family": "Anonymous Pro",
        "font-size": 4
       }
      },
      "text-base": {
       "color": "19cc588f-0593-49c9-9f4b-e4d7cc113b1c",
       "font-family": "Lato",
       "font-size": 4
      }
     },
     "fa8147ba-8650-4a44-9524-c8faa36e9624": {
      "backgrounds": {
       "backgroundColor": {
        "background-color": "backgroundColor",
        "id": "backgroundColor"
       }
      },
      "id": "fa8147ba-8650-4a44-9524-c8faa36e9624",
      "palette": {
       "backgroundColor": {
        "id": "backgroundColor",
        "rgb": [
         247,
         251,
         252
        ]
       },
       "headingColor": {
        "id": "headingColor",
        "rgb": [
         51,
         51,
         51
        ]
       },
       "linkColor": {
        "id": "linkColor",
        "rgb": [
         59,
         117,
         158
        ]
       },
       "mainColor": {
        "id": "mainColor",
        "rgb": [
         51,
         51,
         51
        ]
       }
      },
      "rules": {
       "a": {
        "color": "linkColor"
       },
       "h1": {
        "color": "headingColor",
        "font-family": "Quicksand",
        "font-size": 7
       },
       "h2": {
        "color": "headingColor",
        "font-family": "Quicksand",
        "font-size": 5
       },
       "h3": {
        "color": "headingColor",
        "font-family": "Quicksand",
        "font-size": 3.75
       },
       "h4": {
        "color": "headingColor",
        "font-family": "Quicksand",
        "font-size": 3
       },
       "h5": {
        "color": "headingColor",
        "font-family": "Quicksand"
       },
       "h6": {
        "color": "headingColor",
        "font-family": "Quicksand"
       },
       "h7": {
        "color": "headingColor",
        "font-family": "Quicksand"
       },
       "li": {
        "color": "mainColor",
        "font-family": "Open Sans",
        "font-size": 5
       },
       "p": {
        "color": "mainColor",
        "font-family": "Open Sans",
        "font-size": 5
       }
      },
      "text-base": {
       "color": "mainColor",
       "font-family": "Open Sans",
       "font-size": 5
      }
     }
    }
   }
  }
 },
 "nbformat": 4,
 "nbformat_minor": 1
}
